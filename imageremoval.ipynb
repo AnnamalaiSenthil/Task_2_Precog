{
 "cells": [
  {
   "cell_type": "code",
   "execution_count": 1,
   "metadata": {},
   "outputs": [
    {
     "name": "stderr",
     "output_type": "stream",
     "text": [
      "2024-02-16 00:44:33.833560: I tensorflow/core/util/port.cc:113] oneDNN custom operations are on. You may see slightly different numerical results due to floating-point round-off errors from different computation orders. To turn them off, set the environment variable `TF_ENABLE_ONEDNN_OPTS=0`.\n",
      "2024-02-16 00:44:33.923592: I external/local_tsl/tsl/cuda/cudart_stub.cc:31] Could not find cuda drivers on your machine, GPU will not be used.\n",
      "2024-02-16 00:44:34.326802: E external/local_xla/xla/stream_executor/cuda/cuda_dnn.cc:9261] Unable to register cuDNN factory: Attempting to register factory for plugin cuDNN when one has already been registered\n",
      "2024-02-16 00:44:34.326874: E external/local_xla/xla/stream_executor/cuda/cuda_fft.cc:607] Unable to register cuFFT factory: Attempting to register factory for plugin cuFFT when one has already been registered\n",
      "2024-02-16 00:44:34.409585: E external/local_xla/xla/stream_executor/cuda/cuda_blas.cc:1515] Unable to register cuBLAS factory: Attempting to register factory for plugin cuBLAS when one has already been registered\n",
      "2024-02-16 00:44:34.580033: I external/local_tsl/tsl/cuda/cudart_stub.cc:31] Could not find cuda drivers on your machine, GPU will not be used.\n",
      "2024-02-16 00:44:34.582680: I tensorflow/core/platform/cpu_feature_guard.cc:182] This TensorFlow binary is optimized to use available CPU instructions in performance-critical operations.\n",
      "To enable the following instructions: AVX2 AVX512F AVX512_VNNI FMA, in other operations, rebuild TensorFlow with the appropriate compiler flags.\n",
      "2024-02-16 00:44:36.303308: W tensorflow/compiler/tf2tensorrt/utils/py_utils.cc:38] TF-TRT Warning: Could not find TensorRT\n"
     ]
    }
   ],
   "source": [
    "import tensorflow as tf"
   ]
  },
  {
   "cell_type": "code",
   "execution_count": 2,
   "metadata": {},
   "outputs": [],
   "source": [
    "import os\n",
    "import cv2\n",
    "import keras_ocr\n",
    "import matplotlib.pyplot as plt\n",
    "import numpy as np\n",
    "from PIL import Image"
   ]
  },
  {
   "cell_type": "code",
   "execution_count": 3,
   "metadata": {},
   "outputs": [],
   "source": [
    "PATH = \"./data/img/01245.png\"\n",
    "# files = os.listdir(PATH)"
   ]
  },
  {
   "cell_type": "code",
   "execution_count": 4,
   "metadata": {},
   "outputs": [],
   "source": [
    "def compute_grad(image_gray, mode:str)->np.ndarray:\n",
    "    \"\"\"\n",
    "    Function to compute the gradients magnitude of the image \n",
    "    set mode to \"double\" if you want to apply it two times\n",
    "    \"\"\"\n",
    "    # Compute the gradients using the Sobel operator\n",
    "    dx = cv2.Sobel(image_gray, cv2.CV_64F, 1, 0, ksize=3)\n",
    "    dy = cv2.Sobel(image_gray, cv2.CV_64F, 0, 1, ksize=3)\n",
    "\n",
    "    # Compute the magnitude and direction of the gradients\n",
    "    mag = np.sqrt(dx**2 + dy**2)\n",
    "    \n",
    "    if mode == \"double\":\n",
    "        # Compute the gradients using the Sobel operator\n",
    "        dx = cv2.Sobel(mag, cv2.CV_64F, 1, 0, ksize=3)\n",
    "        dy = cv2.Sobel(mag, cv2.CV_64F, 0, 1, ksize=3)\n",
    "\n",
    "        # Compute the magnitude and direction of the gradients\n",
    "        magmag = np.sqrt(dx**2 + dy**2)\n",
    "        return (magmag/magmag.max()*255).astype(np.uint8)\n",
    "        \n",
    "    return (mag/mag.max()*255).astype(np.uint8)\n",
    "\n",
    "\n",
    "\n",
    "\n",
    "def detect_draw(pipeline, image_gray, viz):\n",
    "    if len(image_gray.shape) == 3:  # Check if image is not grayscale\n",
    "        image_gray = cv2.cvtColor(image_gray, cv2.COLOR_BGR2GRAY)\n",
    "    img = cv2.cvtColor(image_gray, cv2.COLOR_GRAY2RGB)\n",
    "    # img=image_gray\n",
    "    #read image from the an image path (a jpg/png file or an image url)\n",
    "    # Prediction_groups is a list of (word, box) tuples\n",
    "    b = pipeline.recognize([img])\n",
    "    #print image with annotation and boxes\n",
    "    # if viz:\n",
    "    #     keras_ocr.tools.drawAnnotations(image=img, predictions=b[0])\n",
    "    \n",
    "    \n",
    "    x_min = int(min([b[0][i][1][:,0].min() for i in range(len(b[0]))]))\n",
    "    x_max = int(max([b[0][i][1][:,0].max() for i in range(len(b[0]))]))\n",
    "\n",
    "    y_min = int(min([b[0][i][1][:,1].min() for i in range(len(b[0]))]))\n",
    "    y_max = int(max([b[0][i][1][:,1].max() for i in range(len(b[0]))]))\n",
    "    return (x_min,y_min,x_max,y_max)\n",
    "\n",
    "def remove(image_gray, bb, offset):\n",
    "    # Create a mask of the same size as the image\n",
    "    mask = np.ones_like(image_gray)*255\n",
    "\n",
    "    # Draw a white rectangle on the mask within the bounding box\n",
    "    cv2.rectangle(mask, (bb[0]-offset, bb[1]-offset), (bb[2]+offset, bb[3]+offset), (0,0,0), -1)\n",
    "\n",
    "    # Apply the mask to the original image\n",
    "    masked_image = cv2.bitwise_and(image_gray, mask)\n",
    "    \n",
    "    return masked_image"
   ]
  },
  {
   "cell_type": "code",
   "execution_count": 5,
   "metadata": {},
   "outputs": [],
   "source": [
    "def main(pipeline, image_gray, offset):\n",
    "    mag = compute_grad(image_gray,\"single\")\n",
    "    bb = detect_draw(pipeline, mag, viz=True)\n",
    "    masked_image = remove(image_gray, bb, offset)\n",
    "    return masked_image"
   ]
  },
  {
   "cell_type": "code",
   "execution_count": 6,
   "metadata": {},
   "outputs": [
    {
     "name": "stdout",
     "output_type": "stream",
     "text": [
      "Looking for /home/annamalaisenthil112/.keras-ocr/craft_mlt_25k.h5\n",
      "WARNING:tensorflow:From /home/annamalaisenthil112/.local/lib/python3.10/site-packages/tensorflow/python/util/dispatch.py:1260: resize_bilinear (from tensorflow.python.ops.image_ops_impl) is deprecated and will be removed in a future version.\n",
      "Instructions for updating:\n",
      "Use `tf.image.resize(...method=ResizeMethod.BILINEAR...)` instead.\n",
      "Looking for /home/annamalaisenthil112/.keras-ocr/crnn_kurapan.h5\n"
     ]
    }
   ],
   "source": [
    "pipeline = keras_ocr.pipeline.Pipeline()"
   ]
  },
  {
   "cell_type": "code",
   "execution_count": 7,
   "metadata": {},
   "outputs": [
    {
     "name": "stdout",
     "output_type": "stream",
     "text": [
      "1/1 [==============================] - 5s 5s/step\n",
      "1/1 [==============================] - 3s 3s/step\n"
     ]
    },
    {
     "data": {
      "text/plain": [
       "True"
      ]
     },
     "execution_count": 7,
     "metadata": {},
     "output_type": "execute_result"
    }
   ],
   "source": [
    "image_gray  = np.array(Image.open(PATH))\n",
    "masked_image = main(pipeline,image_gray,40)\n",
    "# fig, ax = plt.subplots(1,2,figsize=(20,7))\n",
    "\n",
    "# ax[0].imshow(image_gray)\n",
    "# ax[1].imshow(masked_image)\n",
    "# masked_image_rgb = cv2.cvtColor(masked_image, cv2.COLOR_GRAY2RGB)\n",
    "# if len(masked_image.shape) == 3:  # Check if image is not grayscale\n",
    "#     masked_image = cv2.cvtColor(masked_image, cv2.COLOR_RGB2GRAY)\n",
    "masked_image = cv2.cvtColor(masked_image, cv2.COLOR_BGR2RGB)\n",
    "cv2.imwrite(\"cat-text.png\", masked_image)"
   ]
  },
  {
   "cell_type": "code",
   "execution_count": 8,
   "metadata": {},
   "outputs": [
    {
     "ename": "error",
     "evalue": "OpenCV(4.9.0) /io/opencv/modules/imgproc/src/color.simd_helpers.hpp:92: error: (-2:Unspecified error) in function 'cv::impl::{anonymous}::CvtHelper<VScn, VDcn, VDepth, sizePolicy>::CvtHelper(cv::InputArray, cv::OutputArray, int) [with VScn = cv::impl::{anonymous}::Set<1>; VDcn = cv::impl::{anonymous}::Set<3, 4>; VDepth = cv::impl::{anonymous}::Set<0, 2, 5>; cv::impl::{anonymous}::SizePolicy sizePolicy = cv::impl::<unnamed>::NONE; cv::InputArray = const cv::_InputArray&; cv::OutputArray = const cv::_OutputArray&]'\n> Invalid number of channels in input image:\n>     'VScn::contains(scn)'\n> where\n>     'scn' is 3\n",
     "output_type": "error",
     "traceback": [
      "\u001b[0;31m---------------------------------------------------------------------------\u001b[0m",
      "\u001b[0;31merror\u001b[0m                                     Traceback (most recent call last)",
      "Cell \u001b[0;32mIn[8], line 1\u001b[0m\n\u001b[0;32m----> 1\u001b[0m masked_image_rgb \u001b[38;5;241m=\u001b[39m \u001b[43mcv2\u001b[49m\u001b[38;5;241;43m.\u001b[39;49m\u001b[43mcvtColor\u001b[49m\u001b[43m(\u001b[49m\u001b[43mmasked_image\u001b[49m\u001b[43m,\u001b[49m\u001b[43m \u001b[49m\u001b[43mcv2\u001b[49m\u001b[38;5;241;43m.\u001b[39;49m\u001b[43mCOLOR_GRAY2RGB\u001b[49m\u001b[43m)\u001b[49m\n\u001b[1;32m      2\u001b[0m cv2\u001b[38;5;241m.\u001b[39mimwrite(\u001b[38;5;124m\"\u001b[39m\u001b[38;5;124mcat-text.png\u001b[39m\u001b[38;5;124m\"\u001b[39m, masked_image)\n",
      "\u001b[0;31merror\u001b[0m: OpenCV(4.9.0) /io/opencv/modules/imgproc/src/color.simd_helpers.hpp:92: error: (-2:Unspecified error) in function 'cv::impl::{anonymous}::CvtHelper<VScn, VDcn, VDepth, sizePolicy>::CvtHelper(cv::InputArray, cv::OutputArray, int) [with VScn = cv::impl::{anonymous}::Set<1>; VDcn = cv::impl::{anonymous}::Set<3, 4>; VDepth = cv::impl::{anonymous}::Set<0, 2, 5>; cv::impl::{anonymous}::SizePolicy sizePolicy = cv::impl::<unnamed>::NONE; cv::InputArray = const cv::_InputArray&; cv::OutputArray = const cv::_OutputArray&]'\n> Invalid number of channels in input image:\n>     'VScn::contains(scn)'\n> where\n>     'scn' is 3\n"
     ]
    }
   ],
   "source": [
    "masked_image_rgb = cv2.cvtColor(masked_image, cv2.COLOR_GRAY2RGB)\n",
    "cv2.imwrite(\"cat-text.png\", masked_image)"
   ]
  }
 ],
 "metadata": {
  "kernelspec": {
   "display_name": "Python 3",
   "language": "python",
   "name": "python3"
  },
  "language_info": {
   "codemirror_mode": {
    "name": "ipython",
    "version": 3
   },
   "file_extension": ".py",
   "mimetype": "text/x-python",
   "name": "python",
   "nbconvert_exporter": "python",
   "pygments_lexer": "ipython3",
   "version": "3.10.12"
  }
 },
 "nbformat": 4,
 "nbformat_minor": 2
}
